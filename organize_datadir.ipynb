{
 "cells": [
  {
   "cell_type": "code",
   "execution_count": 2,
   "metadata": {},
   "outputs": [],
   "source": [
    "import os\n",
    "import pandas as pd\n",
    "from collections import Counter\n",
    "from tqdm import tqdm\n",
    "import shutil"
   ]
  },
  {
   "cell_type": "code",
   "execution_count": 3,
   "metadata": {},
   "outputs": [
    {
     "name": "stdout",
     "output_type": "stream",
     "text": [
      "Found 413300 images in 'train'.\n",
      "Number of unique landmarks in the subset: 117477\n",
      "Selected 15 top landmarks for organization.\n",
      "Organizing images into organized_dataset/train...\n"
     ]
    },
    {
     "name": "stderr",
     "output_type": "stream",
     "text": [
      "100%|██████████| 4379/4379 [06:33<00:00, 11.12it/s]"
     ]
    },
    {
     "name": "stdout",
     "output_type": "stream",
     "text": [
      "Dataset preparation complete! Missing 0 files.\n"
     ]
    },
    {
     "name": "stderr",
     "output_type": "stream",
     "text": [
      "\n"
     ]
    }
   ],
   "source": [
    "\n",
    "\n",
    "# Paths\n",
    "DATA_DIR = \"train\" \n",
    "TRAIN_CSV = \"train.csv\"\n",
    "OUTPUT_DIR = \"organized_dataset/train\"\n",
    "\n",
    "# Step 1: Load Metadata\n",
    "train_metadata = pd.read_csv(TRAIN_CSV)\n",
    "\n",
    "# Step 2: Collect Image IDs Using `os.walk`\n",
    "downloaded_image_ids = []\n",
    "for root, _, files in os.walk(DATA_DIR):\n",
    "    for file in files:\n",
    "        if file.endswith(\".jpg\"):\n",
    "            image_id = file.split(\".\")[0]  # Get image ID (without .jpg)\n",
    "            downloaded_image_ids.append(image_id)\n",
    "\n",
    "print(f\"Found {len(downloaded_image_ids)} images in '{DATA_DIR}'.\")\n",
    "\n",
    "# Step 3: Filter Metadata for Downloaded Images\n",
    "filtered_metadata = train_metadata[train_metadata['id'].isin(downloaded_image_ids)]\n",
    "\n",
    "# Step 4: Count Classes (Landmark IDs)\n",
    "landmark_counts = Counter(filtered_metadata['landmark_id'])\n",
    "print(f\"Number of unique landmarks in the subset: {len(landmark_counts)}\")\n",
    "\n",
    "# Step 5: Select Top Classes (Optional)\n",
    "TOP_N = 15\n",
    "top_landmarks = [landmark for landmark, count in landmark_counts.most_common(TOP_N)]\n",
    "\n",
    "# Filter metadata to include only top landmarks\n",
    "reduced_metadata = filtered_metadata[filtered_metadata['landmark_id'].isin(top_landmarks)]\n",
    "\n",
    "print(f\"Selected {len(top_landmarks)} top landmarks for organization.\")\n",
    "\n",
    "# Step 6: Organize Images into Subdirectories by Landmark ID\n",
    "print(f\"Organizing images into {OUTPUT_DIR}...\")\n",
    "\n",
    "# Create output directories\n",
    "for landmark_id in top_landmarks:\n",
    "    os.makedirs(os.path.join(OUTPUT_DIR, str(landmark_id)), exist_ok=True)\n",
    "\n",
    "# Move images into corresponding landmark directories\n",
    "missing_files = []  # Track files that could not be found\n",
    "for _, row in tqdm(reduced_metadata.iterrows(), total=len(reduced_metadata)):\n",
    "    image_id = row['id']\n",
    "    landmark_id = row['landmark_id']\n",
    "    \n",
    "    # Construct the source path dynamically\n",
    "    src_path = None\n",
    "    for root, _, files in os.walk(DATA_DIR):\n",
    "        for file in files:\n",
    "            if file.split(\".\")[0] == image_id:\n",
    "                src_path = os.path.join(root, file)\n",
    "                break\n",
    "        if src_path:  # Break outer loop if file is found\n",
    "            break\n",
    "\n",
    "    if not src_path or not os.path.exists(src_path):  # Ensure the file exists before moving\n",
    "        missing_files.append(image_id)\n",
    "        continue\n",
    "\n",
    "    dest_path = os.path.join(OUTPUT_DIR, str(landmark_id), os.path.basename(src_path))\n",
    "    shutil.copy(src_path, dest_path)\n",
    "\n",
    "print(f\"Dataset preparation complete! Missing {len(missing_files)} files.\")\n",
    "if missing_files:\n",
    "    print(\"Some files were not found:\")\n",
    "    for missing_file in missing_files[:10]:  # Show only first 10 missing files\n",
    "        print(missing_file)\n"
   ]
  },
  {
   "cell_type": "code",
   "execution_count": 3,
   "metadata": {},
   "outputs": [
    {
     "name": "stdout",
     "output_type": "stream",
     "text": [
      "Found 5879 images in 'test'.\n"
     ]
    },
    {
     "ename": "KeyError",
     "evalue": "'landmark_id'",
     "output_type": "error",
     "traceback": [
      "\u001b[0;31m---------------------------------------------------------------------------\u001b[0m",
      "\u001b[0;31mKeyError\u001b[0m                                  Traceback (most recent call last)",
      "File \u001b[0;32m~/BOUN/SWE-583/Term-Project/google-landmark/venv/lib/python3.12/site-packages/pandas/core/indexes/base.py:3805\u001b[0m, in \u001b[0;36mIndex.get_loc\u001b[0;34m(self, key)\u001b[0m\n\u001b[1;32m   3804\u001b[0m \u001b[38;5;28;01mtry\u001b[39;00m:\n\u001b[0;32m-> 3805\u001b[0m     \u001b[38;5;28;01mreturn\u001b[39;00m \u001b[38;5;28;43mself\u001b[39;49m\u001b[38;5;241;43m.\u001b[39;49m\u001b[43m_engine\u001b[49m\u001b[38;5;241;43m.\u001b[39;49m\u001b[43mget_loc\u001b[49m\u001b[43m(\u001b[49m\u001b[43mcasted_key\u001b[49m\u001b[43m)\u001b[49m\n\u001b[1;32m   3806\u001b[0m \u001b[38;5;28;01mexcept\u001b[39;00m \u001b[38;5;167;01mKeyError\u001b[39;00m \u001b[38;5;28;01mas\u001b[39;00m err:\n",
      "File \u001b[0;32mindex.pyx:167\u001b[0m, in \u001b[0;36mpandas._libs.index.IndexEngine.get_loc\u001b[0;34m()\u001b[0m\n",
      "File \u001b[0;32mindex.pyx:196\u001b[0m, in \u001b[0;36mpandas._libs.index.IndexEngine.get_loc\u001b[0;34m()\u001b[0m\n",
      "File \u001b[0;32mpandas/_libs/hashtable_class_helper.pxi:7081\u001b[0m, in \u001b[0;36mpandas._libs.hashtable.PyObjectHashTable.get_item\u001b[0;34m()\u001b[0m\n",
      "File \u001b[0;32mpandas/_libs/hashtable_class_helper.pxi:7089\u001b[0m, in \u001b[0;36mpandas._libs.hashtable.PyObjectHashTable.get_item\u001b[0;34m()\u001b[0m\n",
      "\u001b[0;31mKeyError\u001b[0m: 'landmark_id'",
      "\nThe above exception was the direct cause of the following exception:\n",
      "\u001b[0;31mKeyError\u001b[0m                                  Traceback (most recent call last)",
      "Cell \u001b[0;32mIn[3], line 23\u001b[0m\n\u001b[1;32m     20\u001b[0m filtered_metadata \u001b[38;5;241m=\u001b[39m train_metadata[train_metadata[\u001b[38;5;124m'\u001b[39m\u001b[38;5;124mid\u001b[39m\u001b[38;5;124m'\u001b[39m]\u001b[38;5;241m.\u001b[39misin(downloaded_image_ids)]\n\u001b[1;32m     22\u001b[0m \u001b[38;5;66;03m# Step 4: Count Classes (Landmark IDs)\u001b[39;00m\n\u001b[0;32m---> 23\u001b[0m landmark_counts \u001b[38;5;241m=\u001b[39m Counter(\u001b[43mfiltered_metadata\u001b[49m\u001b[43m[\u001b[49m\u001b[38;5;124;43m'\u001b[39;49m\u001b[38;5;124;43mlandmark_id\u001b[39;49m\u001b[38;5;124;43m'\u001b[39;49m\u001b[43m]\u001b[49m)\n\u001b[1;32m     24\u001b[0m \u001b[38;5;28mprint\u001b[39m(\u001b[38;5;124mf\u001b[39m\u001b[38;5;124m\"\u001b[39m\u001b[38;5;124mNumber of unique landmarks in the subset: \u001b[39m\u001b[38;5;132;01m{\u001b[39;00m\u001b[38;5;28mlen\u001b[39m(landmark_counts)\u001b[38;5;132;01m}\u001b[39;00m\u001b[38;5;124m\"\u001b[39m)\n\u001b[1;32m     26\u001b[0m \u001b[38;5;66;03m# Step 5: Select Top Classes (Optional)\u001b[39;00m\n",
      "File \u001b[0;32m~/BOUN/SWE-583/Term-Project/google-landmark/venv/lib/python3.12/site-packages/pandas/core/frame.py:4102\u001b[0m, in \u001b[0;36mDataFrame.__getitem__\u001b[0;34m(self, key)\u001b[0m\n\u001b[1;32m   4100\u001b[0m \u001b[38;5;28;01mif\u001b[39;00m \u001b[38;5;28mself\u001b[39m\u001b[38;5;241m.\u001b[39mcolumns\u001b[38;5;241m.\u001b[39mnlevels \u001b[38;5;241m>\u001b[39m \u001b[38;5;241m1\u001b[39m:\n\u001b[1;32m   4101\u001b[0m     \u001b[38;5;28;01mreturn\u001b[39;00m \u001b[38;5;28mself\u001b[39m\u001b[38;5;241m.\u001b[39m_getitem_multilevel(key)\n\u001b[0;32m-> 4102\u001b[0m indexer \u001b[38;5;241m=\u001b[39m \u001b[38;5;28;43mself\u001b[39;49m\u001b[38;5;241;43m.\u001b[39;49m\u001b[43mcolumns\u001b[49m\u001b[38;5;241;43m.\u001b[39;49m\u001b[43mget_loc\u001b[49m\u001b[43m(\u001b[49m\u001b[43mkey\u001b[49m\u001b[43m)\u001b[49m\n\u001b[1;32m   4103\u001b[0m \u001b[38;5;28;01mif\u001b[39;00m is_integer(indexer):\n\u001b[1;32m   4104\u001b[0m     indexer \u001b[38;5;241m=\u001b[39m [indexer]\n",
      "File \u001b[0;32m~/BOUN/SWE-583/Term-Project/google-landmark/venv/lib/python3.12/site-packages/pandas/core/indexes/base.py:3812\u001b[0m, in \u001b[0;36mIndex.get_loc\u001b[0;34m(self, key)\u001b[0m\n\u001b[1;32m   3807\u001b[0m     \u001b[38;5;28;01mif\u001b[39;00m \u001b[38;5;28misinstance\u001b[39m(casted_key, \u001b[38;5;28mslice\u001b[39m) \u001b[38;5;129;01mor\u001b[39;00m (\n\u001b[1;32m   3808\u001b[0m         \u001b[38;5;28misinstance\u001b[39m(casted_key, abc\u001b[38;5;241m.\u001b[39mIterable)\n\u001b[1;32m   3809\u001b[0m         \u001b[38;5;129;01mand\u001b[39;00m \u001b[38;5;28many\u001b[39m(\u001b[38;5;28misinstance\u001b[39m(x, \u001b[38;5;28mslice\u001b[39m) \u001b[38;5;28;01mfor\u001b[39;00m x \u001b[38;5;129;01min\u001b[39;00m casted_key)\n\u001b[1;32m   3810\u001b[0m     ):\n\u001b[1;32m   3811\u001b[0m         \u001b[38;5;28;01mraise\u001b[39;00m InvalidIndexError(key)\n\u001b[0;32m-> 3812\u001b[0m     \u001b[38;5;28;01mraise\u001b[39;00m \u001b[38;5;167;01mKeyError\u001b[39;00m(key) \u001b[38;5;28;01mfrom\u001b[39;00m \u001b[38;5;21;01merr\u001b[39;00m\n\u001b[1;32m   3813\u001b[0m \u001b[38;5;28;01mexcept\u001b[39;00m \u001b[38;5;167;01mTypeError\u001b[39;00m:\n\u001b[1;32m   3814\u001b[0m     \u001b[38;5;66;03m# If we have a listlike key, _check_indexing_error will raise\u001b[39;00m\n\u001b[1;32m   3815\u001b[0m     \u001b[38;5;66;03m#  InvalidIndexError. Otherwise we fall through and re-raise\u001b[39;00m\n\u001b[1;32m   3816\u001b[0m     \u001b[38;5;66;03m#  the TypeError.\u001b[39;00m\n\u001b[1;32m   3817\u001b[0m     \u001b[38;5;28mself\u001b[39m\u001b[38;5;241m.\u001b[39m_check_indexing_error(key)\n",
      "\u001b[0;31mKeyError\u001b[0m: 'landmark_id'"
     ]
    }
   ],
   "source": [
    "\n",
    "\n",
    "# Paths\n",
    "DATA_DIR = \"test\" \n",
    "TEST_CSV = \"test.csv\"\n",
    "OUTPUT_DIR = \"organized_dataset/test\"\n",
    "\n",
    "# Step 1: Load Metadata\n",
    "train_metadata = pd.read_csv(TEST_CSV)\n",
    "\n",
    "# Step 2: Collect Image IDs Using `os.walk`\n",
    "downloaded_image_ids = []\n",
    "for root, _, files in os.walk(DATA_DIR):\n",
    "    for file in files:\n",
    "        if file.endswith(\".jpg\"):\n",
    "            image_id = file.split(\".\")[0]  # Get image ID (without .jpg)\n",
    "            downloaded_image_ids.append(image_id)\n",
    "\n",
    "print(f\"Found {len(downloaded_image_ids)} images in '{DATA_DIR}'.\")\n",
    "\n",
    "# Step 3: Filter Metadata for Downloaded Images\n",
    "filtered_metadata = train_metadata[train_metadata['id'].isin(downloaded_image_ids)]\n",
    "\n",
    "# Step 4: Count Classes (Landmark IDs)\n",
    "landmark_counts = Counter(filtered_metadata['landmark_id'])\n",
    "print(f\"Number of unique landmarks in the subset: {len(landmark_counts)}\")\n",
    "\n",
    "# Step 5: Select Top Classes (Optional)\n",
    "TOP_N = 15\n",
    "top_landmarks = [landmark for landmark, count in landmark_counts.most_common(TOP_N)]\n",
    "\n",
    "# Filter metadata to include only top landmarks\n",
    "reduced_metadata = filtered_metadata[filtered_metadata['landmark_id'].isin(top_landmarks)]\n",
    "\n",
    "print(f\"Selected {len(top_landmarks)} top landmarks for organization.\")\n",
    "\n",
    "# Step 6: Organize Images into Subdirectories by Landmark ID\n",
    "print(f\"Organizing images into {OUTPUT_DIR}...\")\n",
    "\n",
    "# Create output directories\n",
    "for landmark_id in top_landmarks:\n",
    "    os.makedirs(os.path.join(OUTPUT_DIR, str(landmark_id)), exist_ok=True)\n",
    "\n",
    "# Move images into corresponding landmark directories\n",
    "missing_files = []  # Track files that could not be found\n",
    "for _, row in tqdm(reduced_metadata.iterrows(), total=len(reduced_metadata)):\n",
    "    image_id = row['id']\n",
    "    landmark_id = row['landmark_id']\n",
    "    \n",
    "    # Construct the source path dynamically\n",
    "    src_path = None\n",
    "    for root, _, files in os.walk(DATA_DIR):\n",
    "        for file in files:\n",
    "            if file.split(\".\")[0] == image_id:\n",
    "                src_path = os.path.join(root, file)\n",
    "                break\n",
    "        if src_path:  # Break outer loop if file is found\n",
    "            break\n",
    "\n",
    "    if not src_path or not os.path.exists(src_path):  # Ensure the file exists before moving\n",
    "        missing_files.append(image_id)\n",
    "        continue\n",
    "\n",
    "    dest_path = os.path.join(OUTPUT_DIR, str(landmark_id), os.path.basename(src_path))\n",
    "    shutil.copy(src_path, dest_path)\n",
    "\n",
    "print(f\"Dataset preparation complete! Missing {len(missing_files)} files.\")\n",
    "if missing_files:\n",
    "    print(\"Some files were not found:\")\n",
    "    for missing_file in missing_files[:10]:  # Show only first 10 missing files\n",
    "        print(missing_file)\n"
   ]
  }
 ],
 "metadata": {
  "kernelspec": {
   "display_name": "venv",
   "language": "python",
   "name": "python3"
  },
  "language_info": {
   "codemirror_mode": {
    "name": "ipython",
    "version": 3
   },
   "file_extension": ".py",
   "mimetype": "text/x-python",
   "name": "python",
   "nbconvert_exporter": "python",
   "pygments_lexer": "ipython3",
   "version": "3.12.3"
  }
 },
 "nbformat": 4,
 "nbformat_minor": 2
}
